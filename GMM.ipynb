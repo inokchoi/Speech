{
  "nbformat": 4,
  "nbformat_minor": 0,
  "metadata": {
    "kernelspec": {
      "display_name": "Python 3",
      "language": "python",
      "name": "python3"
    },
    "language_info": {
      "codemirror_mode": {
        "name": "ipython",
        "version": 3
      },
      "file_extension": ".py",
      "mimetype": "text/x-python",
      "name": "python",
      "nbconvert_exporter": "python",
      "pygments_lexer": "ipython3",
      "version": "3.7.4"
    },
    "colab": {
      "name": "Lec03_GMM_Speaker_Recognition.ipynb",
      "provenance": [],
      "include_colab_link": true
    },
    "accelerator": "GPU"
  },
  "cells": [
    {
      "cell_type": "markdown",
      "metadata": {
        "id": "view-in-github",
        "colab_type": "text"
      },
      "source": [
        "<a href=\"https://colab.research.google.com/github/inokchoi/Speech/blob/main/GMM.ipynb\" target=\"_parent\"><img src=\"https://colab.research.google.com/assets/colab-badge.svg\" alt=\"Open In Colab\"/></a>"
      ]
    },
    {
      "cell_type": "markdown",
      "metadata": {
        "id": "GGI4794hhU7p"
      },
      "source": [
        "# GMM-based Speaker Recognition"
      ]
    },
    {
      "cell_type": "code",
      "metadata": {
        "id": "0z775KMqm2yk",
        "outputId": "1b390586-098d-4666-932c-00b354db9801",
        "colab": {
          "base_uri": "https://localhost:8080/",
          "height": 127
        }
      },
      "source": [
        "from google.colab import drive\n",
        "drive.mount('/content/drive')"
      ],
      "execution_count": null,
      "outputs": [
        {
          "output_type": "stream",
          "text": [
            "Go to this URL in a browser: https://accounts.google.com/o/oauth2/auth?client_id=947318989803-6bn6qk8qdgf4n4g3pfee6491hc0brc4i.apps.googleusercontent.com&redirect_uri=urn%3aietf%3awg%3aoauth%3a2.0%3aoob&response_type=code&scope=email%20https%3a%2f%2fwww.googleapis.com%2fauth%2fdocs.test%20https%3a%2f%2fwww.googleapis.com%2fauth%2fdrive%20https%3a%2f%2fwww.googleapis.com%2fauth%2fdrive.photos.readonly%20https%3a%2f%2fwww.googleapis.com%2fauth%2fpeopleapi.readonly\n",
            "\n",
            "Enter your authorization code:\n",
            "··········\n",
            "Mounted at /content/drive\n"
          ],
          "name": "stdout"
        }
      ]
    },
    {
      "cell_type": "code",
      "metadata": {
        "id": "7cZspqfSm5Qr"
      },
      "source": [
        "from google.colab import auth\n",
        "auth.authenticate_user()"
      ],
      "execution_count": null,
      "outputs": []
    },
    {
      "cell_type": "code",
      "metadata": {
        "id": "OwSO3tVjm87B",
        "outputId": "1929f25b-cf49-437b-88f1-5097e850eeac",
        "colab": {
          "base_uri": "https://localhost:8080/",
          "height": 35
        }
      },
      "source": [
        "cd '/content/drive/My Drive/Colab Notebooks/20-1voice_interface/Proj2/GMM_Experiments/'"
      ],
      "execution_count": null,
      "outputs": [
        {
          "output_type": "stream",
          "text": [
            "/content/drive/My Drive/Colab Notebooks/20-1voice_interface/Proj2/GMM_Experiments\n"
          ],
          "name": "stdout"
        }
      ]
    },
    {
      "cell_type": "code",
      "metadata": {
        "id": "BqIIstFehU7q"
      },
      "source": [
        "import sklearn.mixture as mixture\n",
        "import numpy as np\n",
        "import librosa\n",
        "import pdb\n",
        "import glob\n",
        "import matplotlib.pyplot as plt\n",
        "from matplotlib.colors import LogNorm\n",
        "from mpl_toolkits.mplot3d import Axes3D\n",
        "import matplotlib as cm"
      ],
      "execution_count": null,
      "outputs": []
    },
    {
      "cell_type": "markdown",
      "metadata": {
        "id": "Sf-hQDPHhU7t"
      },
      "source": [
        "## Training GMM"
      ]
    },
    {
      "cell_type": "markdown",
      "metadata": {
        "id": "Adszek1ZhU7u"
      },
      "source": [
        "### load dataset"
      ]
    },
    {
      "cell_type": "code",
      "metadata": {
        "id": "5p8hRH9VhU7v"
      },
      "source": [
        "tr_dataset = np.load('./gmm_tr_data.npz',allow_pickle=True)\n",
        "tr_data = tr_dataset['x']\n",
        "tr_label = tr_dataset['y']\n",
        "tr_dataset.close()\n",
        "test_dataset = np.load('./gmm_test_data.npz',allow_pickle=True)\n",
        "test_data = test_dataset['x']\n",
        "test_label = test_dataset['y']\n",
        "test_dataset.close()"
      ],
      "execution_count": null,
      "outputs": []
    },
    {
      "cell_type": "code",
      "metadata": {
        "id": "xSI_5nL1hU70",
        "outputId": "d553b840-f35b-4bc8-abcc-b9aa272305c3",
        "colab": {
          "base_uri": "https://localhost:8080/",
          "height": 35
        }
      },
      "source": [
        "np.shape(test_data)"
      ],
      "execution_count": null,
      "outputs": [
        {
          "output_type": "execute_result",
          "data": {
            "text/plain": [
              "(29,)"
            ]
          },
          "metadata": {
            "tags": []
          },
          "execution_count": 6
        }
      ]
    },
    {
      "cell_type": "markdown",
      "metadata": {
        "id": "ia_tjc2ghU76"
      },
      "source": [
        "### Train GMM"
      ]
    },
    {
      "cell_type": "code",
      "metadata": {
        "id": "cedD6TUvhU77"
      },
      "source": [
        "def define_GMM(n_mixture):\n",
        "    return mixture.GaussianMixture(n_components=n_mixture, covariance_type='diag')"
      ],
      "execution_count": null,
      "outputs": []
    },
    {
      "cell_type": "code",
      "metadata": {
        "id": "pmXXyuBnhU7_"
      },
      "source": [
        "n_mixture = 4\n",
        "\n",
        "GMM_model = {}\n",
        "for i in tr_label:\n",
        "    GMM_model[i] = define_GMM(n_mixture)\n",
        "    GMM_model[i].fit(tr_data[i])  #UBM 모델을 하는 경우 이 코드가 바뀐다.: 유니버셜 ,,, 특정 화자 모델, 전체 사람 모델을 넣고,"
      ],
      "execution_count": null,
      "outputs": []
    },
    {
      "cell_type": "markdown",
      "metadata": {
        "id": "lB74UMqhhU8D"
      },
      "source": [
        "### Test GMM"
      ]
    },
    {
      "cell_type": "code",
      "metadata": {
        "scrolled": true,
        "id": "RpZZDx-mhU8D",
        "outputId": "63fab5d3-0bd5-4e95-b243-ff0ab6eb21ab",
        "colab": {
          "base_uri": "https://localhost:8080/",
          "height": 557
        }
      },
      "source": [
        "ACC = 0\n",
        "for i, data in enumerate(test_data):\n",
        "    candidates=[]\n",
        "    # Calculate likelihood scores for all the trained GMMs.\n",
        "    for spk in GMM_model.keys():\n",
        "        score = GMM_model[spk].score(data) #두개의 스코어를 비교해서 맞는지 틀린지를 수정을 한다.\n",
        "#        print(\"spk {} : {}\".format(spk, score))\n",
        "        candidates.append(score)\n",
        "    candidates = np.array(candidates)\n",
        "    \n",
        "    estimated_speaker_label = np.argmax(candidates)\n",
        "    print(\"Estimated: {}, True: {}\".format(estimated_speaker_label, test_label[i]), end=' '*5)\n",
        "    if test_label[i] == estimated_speaker_label:\n",
        "        print(\"correct!\")\n",
        "        ACC += 1\n",
        "    else:\n",
        "        print(\"incorrect...\")\n",
        "print(\"ACC:{:.2f}\".format(ACC/len(test_label)*100.))   "
      ],
      "execution_count": null,
      "outputs": [
        {
          "output_type": "stream",
          "text": [
            "Estimated: 0, True: 0     correct!\n",
            "Estimated: 27, True: 27     correct!\n",
            "Estimated: 1, True: 1     correct!\n",
            "Estimated: 2, True: 2     correct!\n",
            "Estimated: 3, True: 3     correct!\n",
            "Estimated: 4, True: 4     correct!\n",
            "Estimated: 5, True: 5     correct!\n",
            "Estimated: 6, True: 6     correct!\n",
            "Estimated: 7, True: 7     correct!\n",
            "Estimated: 8, True: 8     correct!\n",
            "Estimated: 9, True: 9     correct!\n",
            "Estimated: 10, True: 10     correct!\n",
            "Estimated: 11, True: 11     correct!\n",
            "Estimated: 12, True: 12     correct!\n",
            "Estimated: 13, True: 13     correct!\n",
            "Estimated: 14, True: 14     correct!\n",
            "Estimated: 15, True: 15     correct!\n",
            "Estimated: 16, True: 16     correct!\n",
            "Estimated: 17, True: 17     correct!\n",
            "Estimated: 18, True: 18     correct!\n",
            "Estimated: 19, True: 19     correct!\n",
            "Estimated: 20, True: 20     correct!\n",
            "Estimated: 21, True: 21     correct!\n",
            "Estimated: 22, True: 22     correct!\n",
            "Estimated: 14, True: 23     incorrect...\n",
            "Estimated: 24, True: 24     correct!\n",
            "Estimated: 25, True: 25     correct!\n",
            "Estimated: 26, True: 26     correct!\n",
            "Estimated: 28, True: 28     correct!\n",
            "ACC:96.55\n"
          ],
          "name": "stdout"
        }
      ]
    },
    {
      "cell_type": "code",
      "metadata": {
        "id": "CLuvKq2ahU8H"
      },
      "source": [
        ""
      ],
      "execution_count": null,
      "outputs": []
    }
  ]
}