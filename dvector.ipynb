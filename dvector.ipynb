{
  "nbformat": 4,
  "nbformat_minor": 0,
  "metadata": {
    "kernelspec": {
      "display_name": "Python 3",
      "language": "python",
      "name": "python3"
    },
    "language_info": {
      "codemirror_mode": {
        "name": "ipython",
        "version": 3
      },
      "file_extension": ".py",
      "mimetype": "text/x-python",
      "name": "python",
      "nbconvert_exporter": "python",
      "pygments_lexer": "ipython3",
      "version": "3.7.4"
    },
    "colab": {
      "name": "PJ4_plot.ipynb",
      "provenance": [],
      "include_colab_link": true
    },
    "accelerator": "GPU"
  },
  "cells": [
    {
      "cell_type": "markdown",
      "metadata": {
        "id": "view-in-github",
        "colab_type": "text"
      },
      "source": [
        "<a href=\"https://colab.research.google.com/github/inokchoi/Speech/blob/main/dvector.ipynb\" target=\"_parent\"><img src=\"https://colab.research.google.com/assets/colab-badge.svg\" alt=\"Open In Colab\"/></a>"
      ]
    },
    {
      "cell_type": "markdown",
      "metadata": {
        "id": "P_ZvpyvgoxkK"
      },
      "source": [
        "# Plot d-vector embedding"
      ]
    },
    {
      "cell_type": "code",
      "metadata": {
        "id": "39NCpcVL42dE",
        "outputId": "eb6c8656-5eb4-4d90-f6cc-60c2b86c52dd",
        "colab": {
          "base_uri": "https://localhost:8080/",
          "height": 122
        }
      },
      "source": [
        "from google.colab import drive\n",
        "drive.mount('/content/drive')"
      ],
      "execution_count": null,
      "outputs": [
        {
          "output_type": "stream",
          "text": [
            "Go to this URL in a browser: https://accounts.google.com/o/oauth2/auth?client_id=947318989803-6bn6qk8qdgf4n4g3pfee6491hc0brc4i.apps.googleusercontent.com&redirect_uri=urn%3aietf%3awg%3aoauth%3a2.0%3aoob&response_type=code&scope=email%20https%3a%2f%2fwww.googleapis.com%2fauth%2fdocs.test%20https%3a%2f%2fwww.googleapis.com%2fauth%2fdrive%20https%3a%2f%2fwww.googleapis.com%2fauth%2fdrive.photos.readonly%20https%3a%2f%2fwww.googleapis.com%2fauth%2fpeopleapi.readonly\n",
            "\n",
            "Enter your authorization code:\n",
            "··········\n",
            "Mounted at /content/drive\n"
          ],
          "name": "stdout"
        }
      ]
    },
    {
      "cell_type": "code",
      "metadata": {
        "id": "ZHVytHzu43gg"
      },
      "source": [
        "from google.colab import auth\n",
        "auth.authenticate_user()"
      ],
      "execution_count": null,
      "outputs": []
    },
    {
      "cell_type": "code",
      "metadata": {
        "id": "Gtd0dr9-4294",
        "outputId": "15c1d3aa-5eca-469b-8cd0-4f90bdbedeea",
        "colab": {
          "base_uri": "https://localhost:8080/",
          "height": 34
        }
      },
      "source": [
        "cd '/content/drive/My Drive/Colab Notebooks/20-1voice_interface/Proj2/dvector/'"
      ],
      "execution_count": null,
      "outputs": [
        {
          "output_type": "stream",
          "text": [
            "/content/drive/My Drive/Colab Notebooks/20-1voice_interface/Proj2/dvector\n"
          ],
          "name": "stdout"
        }
      ]
    },
    {
      "cell_type": "code",
      "metadata": {
        "scrolled": true,
        "id": "5iuo-oxHoxkS"
      },
      "source": [
        "import torch\n",
        "import torch.nn as nn\n",
        "import torch.optim as optim\n",
        "import tqdm\n",
        "import numpy as np\n",
        "from torch.optim import lr_scheduler\n",
        "from torch.utils.data import DataLoader\n",
        "from PJ4_dataset import *\n",
        "from PJ4_model import *"
      ],
      "execution_count": null,
      "outputs": []
    },
    {
      "cell_type": "code",
      "metadata": {
        "id": "g8vqMCh_oxkp"
      },
      "source": [
        "# Define a collate (stacking) function for the data loader.\n",
        "def collate_fn(samples):\n",
        "    data, label = [], []\n",
        "    min_length = min([len(d[0]) for d in samples])-1\n",
        "\n",
        "    for d,l in samples:\n",
        "        st = np.random.randint(len(d)-min_length)\n",
        "        data.append(torch.tensor(d[st:st+min_length]).unsqueeze(0))\n",
        "        label.append(torch.tensor(l))\n",
        "    data = torch.cat(data,0)\n",
        "    label = torch.LongTensor(label)\n",
        "\n",
        "    return data, label "
      ],
      "execution_count": null,
      "outputs": []
    },
    {
      "cell_type": "code",
      "metadata": {
        "id": "BCaopzJXoxk3"
      },
      "source": [
        "import matplotlib.pyplot as plt\n",
        "\n",
        "# Define a t-SNE plot function.\n",
        "def tsne_plot(vec_tsne, label, path, name):\n",
        "    cmap = plt.cm.rainbow\n",
        "    plt.scatter(vec_tsne[:,0], vec_tsne[:,1], s=4, c=label, cmap=cmap)\n",
        "    plt.xlim(min(vec_tsne[:,0]), max(vec_tsne[:,0]))\n",
        "    plt.ylim(min(vec_tsne[:,1]), max(vec_tsne[:,1]))\n",
        "    plt.title(name)\n",
        "    plt.savefig(path)\n",
        "    plt.show()\n",
        "    plt.close()"
      ],
      "execution_count": null,
      "outputs": []
    },
    {
      "cell_type": "code",
      "metadata": {
        "scrolled": false,
        "id": "ObknL2T0oxlI",
        "outputId": "f814385f-d53d-4580-c07d-cba9c8fa3104",
        "colab": {
          "base_uri": "https://localhost:8080/",
          "height": 315
        }
      },
      "source": [
        "# Draw a t-SNE plot.\n",
        "from sklearn.manifold import TSNE\n",
        "\n",
        "# Set the configuration for training.\n",
        "n_spk = 29              # number of speakers in the dataset    \n",
        "feature_type = 'mel'    # input feature type\n",
        "n_coeff = 13             # feature dimension    \n",
        "indim = n_coeff*3        # input dimension (MFCC, delta, delta-delta)\n",
        "context_len = 10         # number of context window\n",
        "outdim = 512             # d-vector output dimension\n",
        "\n",
        "# Check if we can use a GPU device.\n",
        "if torch.cuda.is_available():    \n",
        "    device = torch.device('cuda')\n",
        "else:\n",
        "    device = torch.device('cpu')\n",
        "\n",
        "model = Dvector(n_spk, indim * context_len, outdim).to(device)\n",
        "\n",
        "model.eval()\n",
        "check = torch.load('./model/model_opt_mel.pth')\n",
        "model.load_state_dict(check['model'])\n",
        "print('## Successfully load the model!')\n",
        "\n",
        "# Define a data path for plot.\n",
        "plot_list='./plot_spk2.txt'\n",
        "plot_dataset = SpeakerDataset(plot_list, feature_type=feature_type, n_coeff=n_coeff)\n",
        "plot_loader = DataLoader(plot_dataset,\n",
        "                         batch_size=1,\n",
        "                         shuffle=False,\n",
        "                         collate_fn=collate_fn,\n",
        "                         num_workers=0,\n",
        "                         pin_memory=True)\n",
        "bar = tqdm.tqdm(plot_loader)\n",
        "output_embedding=[]\n",
        "output_label=[]\n",
        "for i, (data,label) in enumerate(bar):\n",
        "    data = data.type(torch.FloatTensor).to(device)\n",
        "    output = model(data,extract=False)\n",
        "    output_embedding.append(output.detach().cpu().numpy())\n",
        "    output_label.append(label.detach().cpu().numpy()[0])\n",
        "\n",
        "# Prepare embedings for plot.\n",
        "output_embedding = np.concatenate(output_embedding)\n",
        "output_label = np.array(output_label)\n",
        "\n",
        "# Obtain embedding for the t-SNE plot.\n",
        "tsne = TSNE(n_components=2)\n",
        "output_embedding = output_embedding.reshape(len(output_embedding),-1)\n",
        "vec_tsne = tsne.fit_transform(output_embedding)\n",
        "\n",
        "# Plot.\n",
        "tsne_plot(vec_tsne,output_label, './dvec.png','d-vector t-SNE [10spks]')"
      ],
      "execution_count": null,
      "outputs": [
        {
          "output_type": "stream",
          "text": [
            "## Successfully load the model!\n"
          ],
          "name": "stdout"
        },
        {
          "output_type": "stream",
          "text": [
            "100%|██████████| 99/99 [01:45<00:00,  1.06s/it]\n"
          ],
          "name": "stderr"
        },
        {
          "output_type": "display_data",
          "data": {
            "image/png": "[encoded data removed]",
            "text/plain": [
              "<Figure size 432x288 with 1 Axes>"
            ]
          },
          "metadata": {
            "tags": [],
            "needs_background": "light"
          }
        }
      ]
    },
    {
      "cell_type": "code",
      "metadata": {
        "id": "gAIwfBVcoxlk"
      },
      "source": [
        ""
      ],
      "execution_count": null,
      "outputs": []
    }
  ]
}